{
 "cells": [
  {
   "cell_type": "code",
   "execution_count": 1,
   "metadata": {},
   "outputs": [],
   "source": [
    "import numpy as np"
   ]
  },
  {
   "cell_type": "code",
   "execution_count": 3,
   "metadata": {},
   "outputs": [],
   "source": [
    "a = np.arange(1,10)"
   ]
  },
  {
   "cell_type": "code",
   "execution_count": 4,
   "metadata": {},
   "outputs": [
    {
     "data": {
      "text/plain": [
       "array([1, 2, 3, 4, 5, 6, 7, 8, 9])"
      ]
     },
     "execution_count": 4,
     "metadata": {},
     "output_type": "execute_result"
    }
   ],
   "source": [
    "a"
   ]
  },
  {
   "cell_type": "code",
   "execution_count": 5,
   "metadata": {},
   "outputs": [],
   "source": [
    "x = range(1,10)"
   ]
  },
  {
   "cell_type": "code",
   "execution_count": 7,
   "metadata": {},
   "outputs": [
    {
     "name": "stdout",
     "output_type": "stream",
     "text": [
      "range(1, 10)\n"
     ]
    }
   ],
   "source": [
    "print(x)"
   ]
  },
  {
   "cell_type": "code",
   "execution_count": 8,
   "metadata": {},
   "outputs": [
    {
     "name": "stdout",
     "output_type": "stream",
     "text": [
      "[1, 2, 3, 4, 5, 6, 7, 8, 9]\n"
     ]
    }
   ],
   "source": [
    "print(list(x))"
   ]
  },
  {
   "cell_type": "code",
   "execution_count": 9,
   "metadata": {},
   "outputs": [],
   "source": [
    "# further changes examples:\n",
    "x = np.arange(10.4)"
   ]
  },
  {
   "cell_type": "code",
   "execution_count": 10,
   "metadata": {},
   "outputs": [
    {
     "data": {
      "text/plain": [
       "array([ 0.,  1.,  2.,  3.,  4.,  5.,  6.,  7.,  8.,  9., 10.])"
      ]
     },
     "execution_count": 10,
     "metadata": {},
     "output_type": "execute_result"
    }
   ],
   "source": [
    "x"
   ]
  },
  {
   "cell_type": "code",
   "execution_count": 11,
   "metadata": {},
   "outputs": [
    {
     "data": {
      "text/plain": [
       "array([ 0.5,  1.3,  2.1,  2.9,  3.7,  4.5,  5.3,  6.1,  6.9,  7.7,  8.5,\n",
       "        9.3, 10.1])"
      ]
     },
     "execution_count": 11,
     "metadata": {},
     "output_type": "execute_result"
    }
   ],
   "source": [
    "np.arange(0.5,10.4,0.8)"
   ]
  },
  {
   "cell_type": "code",
   "execution_count": 12,
   "metadata": {},
   "outputs": [
    {
     "data": {
      "text/plain": [
       "array([ 0,  1,  2,  3,  4,  5,  6,  7,  8,  9, 10, 11, 12])"
      ]
     },
     "execution_count": 12,
     "metadata": {},
     "output_type": "execute_result"
    }
   ],
   "source": [
    "np.arange(0.5,10.4,0.8,int)"
   ]
  },
  {
   "cell_type": "code",
   "execution_count": 15,
   "metadata": {},
   "outputs": [
    {
     "name": "stdout",
     "output_type": "stream",
     "text": [
      "[ 1.          1.18367347  1.36734694  1.55102041  1.73469388  1.91836735\n",
      "  2.10204082  2.28571429  2.46938776  2.65306122  2.83673469  3.02040816\n",
      "  3.20408163  3.3877551   3.57142857  3.75510204  3.93877551  4.12244898\n",
      "  4.30612245  4.48979592  4.67346939  4.85714286  5.04081633  5.2244898\n",
      "  5.40816327  5.59183673  5.7755102   5.95918367  6.14285714  6.32653061\n",
      "  6.51020408  6.69387755  6.87755102  7.06122449  7.24489796  7.42857143\n",
      "  7.6122449   7.79591837  7.97959184  8.16326531  8.34693878  8.53061224\n",
      "  8.71428571  8.89795918  9.08163265  9.26530612  9.44897959  9.63265306\n",
      "  9.81632653 10.        ]\n"
     ]
    }
   ],
   "source": [
    "# linspace\n",
    "# 50 values between 1 and 10:\n",
    "print(np.linspace(1,10,50))"
   ]
  },
  {
   "cell_type": "code",
   "execution_count": 16,
   "metadata": {},
   "outputs": [
    {
     "name": "stdout",
     "output_type": "stream",
     "text": [
      "[ 1.   2.5  4.   5.5  7.   8.5 10. ]\n"
     ]
    }
   ],
   "source": [
    "# 7 values between 1 and 10:\n",
    "print(np.linspace(1,10,7))"
   ]
  },
  {
   "cell_type": "code",
   "execution_count": 17,
   "metadata": {},
   "outputs": [
    {
     "name": "stdout",
     "output_type": "stream",
     "text": [
      "[1.         2.28571429 3.57142857 4.85714286 6.14285714 7.42857143\n",
      " 8.71428571]\n"
     ]
    }
   ],
   "source": [
    "# excluding the endpoint:\n",
    "print(np.linspace(1,10,7,endpoint=False))"
   ]
  },
  {
   "cell_type": "code",
   "execution_count": 18,
   "metadata": {},
   "outputs": [
    {
     "name": "stdout",
     "output_type": "stream",
     "text": [
      "[1.         2.33333333 3.66666667 5.         6.33333333 7.66666667\n",
      " 9.        ]\n"
     ]
    }
   ],
   "source": [
    "print(np.linspace(1,9,7))"
   ]
  },
  {
   "cell_type": "code",
   "execution_count": 19,
   "metadata": {},
   "outputs": [
    {
     "name": "stdout",
     "output_type": "stream",
     "text": [
      "[1.         1.16326531 1.32653061 1.48979592 1.65306122 1.81632653\n",
      " 1.97959184 2.14285714 2.30612245 2.46938776 2.63265306 2.79591837\n",
      " 2.95918367 3.12244898 3.28571429 3.44897959 3.6122449  3.7755102\n",
      " 3.93877551 4.10204082 4.26530612 4.42857143 4.59183673 4.75510204\n",
      " 4.91836735 5.08163265 5.24489796 5.40816327 5.57142857 5.73469388\n",
      " 5.89795918 6.06122449 6.2244898  6.3877551  6.55102041 6.71428571\n",
      " 6.87755102 7.04081633 7.20408163 7.36734694 7.53061224 7.69387755\n",
      " 7.85714286 8.02040816 8.18367347 8.34693878 8.51020408 8.67346939\n",
      " 8.83673469 9.        ]\n"
     ]
    }
   ],
   "source": [
    "print(np.linspace(1,9))"
   ]
  },
  {
   "cell_type": "code",
   "execution_count": 21,
   "metadata": {},
   "outputs": [
    {
     "name": "stdout",
     "output_type": "stream",
     "text": [
      "0.1836734693877551\n"
     ]
    }
   ],
   "source": [
    "# retstep examples:\n",
    "samples,spacing = np.linspace(1,10,retstep=True)\n",
    "print(spacing)"
   ]
  },
  {
   "cell_type": "code",
   "execution_count": 23,
   "metadata": {},
   "outputs": [
    {
     "name": "stdout",
     "output_type": "stream",
     "text": [
      "x:  42\n",
      "The type of x:  <class 'numpy.ndarray'>\n",
      "The dimension of x:  0\n"
     ]
    }
   ],
   "source": [
    "# zero dimensional arrays in numpy:\n",
    "x = np.array(42)\n",
    "print(\"x: \",x)\n",
    "print('The type of x: ',type(x))\n",
    "print('The dimension of x: ',np.ndim(x))"
   ]
  },
  {
   "cell_type": "code",
   "execution_count": 24,
   "metadata": {},
   "outputs": [
    {
     "name": "stdout",
     "output_type": "stream",
     "text": [
      "F:  [ 1  2  3  5  8 13 21]\n",
      "V:  [ 3.4  6.9 99.8 12.8]\n",
      "Type of F:  int32\n",
      "Type of V:  float64\n",
      "Dimension of F:  1\n",
      "Dimension of V:  1\n"
     ]
    }
   ],
   "source": [
    "# one dimensional arrays:\n",
    "F = np.array([1,2,3,5,8,13,21])\n",
    "V = np.array([3.4,6.9,99.8,12.8])\n",
    "\n",
    "print('F: ',F)\n",
    "print('V: ',V)\n",
    "\n",
    "print('Type of F: ',F.dtype)\n",
    "print('Type of V: ',V.dtype)\n",
    "\n",
    "print('Dimension of F: ',np.ndim(F))\n",
    "print('Dimension of V: ',np.ndim(V))"
   ]
  },
  {
   "cell_type": "code",
   "execution_count": 28,
   "metadata": {},
   "outputs": [
    {
     "name": "stdout",
     "output_type": "stream",
     "text": [
      "[[ 3.4  8.7  9.9]\n",
      " [ 1.1 -7.8 -0.7]\n",
      " [ 4.1 12.3  4.8]]\n",
      "2\n"
     ]
    }
   ],
   "source": [
    "# two dimensional arrays:\n",
    "A = np.array([[3.4,8.7,9.9],\n",
    "            [1.1,-7.8,-0.7],\n",
    "            [4.1,12.3,4.8]])\n",
    "print(A)\n",
    "print(np.ndim(A))"
   ]
  },
  {
   "cell_type": "code",
   "execution_count": 29,
   "metadata": {},
   "outputs": [
    {
     "name": "stdout",
     "output_type": "stream",
     "text": [
      "(6, 3)\n"
     ]
    }
   ],
   "source": [
    "# shape of the array:\n",
    "x = np.array([[67,63,87],\n",
    "             [77,69,59],\n",
    "             [85,87,99],\n",
    "             [79,72,71],\n",
    "             [63,89,93],\n",
    "             [68,92,78]])\n",
    "\n",
    "print(np.shape(x))"
   ]
  },
  {
   "cell_type": "code",
   "execution_count": 30,
   "metadata": {},
   "outputs": [
    {
     "data": {
      "text/plain": [
       "array([[67, 63, 87],\n",
       "       [77, 69, 59],\n",
       "       [85, 87, 99],\n",
       "       [79, 72, 71],\n",
       "       [63, 89, 93],\n",
       "       [68, 92, 78]])"
      ]
     },
     "execution_count": 30,
     "metadata": {},
     "output_type": "execute_result"
    }
   ],
   "source": [
    "x"
   ]
  },
  {
   "cell_type": "code",
   "execution_count": 31,
   "metadata": {},
   "outputs": [],
   "source": [
    "x.shape = (3,6)"
   ]
  },
  {
   "cell_type": "code",
   "execution_count": 32,
   "metadata": {},
   "outputs": [
    {
     "data": {
      "text/plain": [
       "array([[67, 63, 87, 77, 69, 59],\n",
       "       [85, 87, 99, 79, 72, 71],\n",
       "       [63, 89, 93, 68, 92, 78]])"
      ]
     },
     "execution_count": 32,
     "metadata": {},
     "output_type": "execute_result"
    }
   ],
   "source": [
    "x"
   ]
  },
  {
   "cell_type": "code",
   "execution_count": 34,
   "metadata": {},
   "outputs": [
    {
     "name": "stdout",
     "output_type": "stream",
     "text": [
      "1\n",
      "21\n"
     ]
    }
   ],
   "source": [
    "# indexing and slicing\n",
    "F = np.array([1,1,2,3,5,8,13,21])\n",
    "\n",
    "# print the first element of F\n",
    "print(F[0])\n",
    "\n",
    "# print the last element of F\n",
    "print(F[-1])"
   ]
  },
  {
   "cell_type": "code",
   "execution_count": 35,
   "metadata": {},
   "outputs": [
    {
     "name": "stdout",
     "output_type": "stream",
     "text": [
      "1.1\n"
     ]
    }
   ],
   "source": [
    "# indexing multiple dimension arrays:\n",
    "A = np.array([[3.4,8.7,9.9],\n",
    "             [1.1,-7.8,-0.7],\n",
    "             [4.1,12.3,4.8]])\n",
    "print(A[1][0])"
   ]
  },
  {
   "cell_type": "code",
   "execution_count": 36,
   "metadata": {},
   "outputs": [
    {
     "name": "stdout",
     "output_type": "stream",
     "text": [
      "1.1\n"
     ]
    }
   ],
   "source": [
    "# another way of accesing elements of multi-dimension array:\n",
    "print(A[1,0])"
   ]
  },
  {
   "cell_type": "code",
   "execution_count": 37,
   "metadata": {},
   "outputs": [
    {
     "name": "stdout",
     "output_type": "stream",
     "text": [
      "[2 3 4]\n",
      "[0 1 2 3]\n",
      "[0 1 2 3 4 5 6 7 8 9]\n"
     ]
    }
   ],
   "source": [
    "S = np.array([0,1,2,3,4,5,6,7,8,9])\n",
    "print(S[2:5])\n",
    "print(S[:4])\n",
    "print(S[:])"
   ]
  },
  {
   "cell_type": "code",
   "execution_count": 39,
   "metadata": {},
   "outputs": [
    {
     "name": "stdout",
     "output_type": "stream",
     "text": [
      "[[11 12 13 14 15]\n",
      " [21 22 23 24 25]\n",
      " [31 32 33 34 35]\n",
      " [41 42 43 44 45]\n",
      " [51 52 53 54 55]]\n",
      "[[13 14 15]\n",
      " [23 24 25]\n",
      " [33 34 35]]\n"
     ]
    }
   ],
   "source": [
    "# slicing operator on multi-dimension numpy arrays:\n",
    "A = np.array([[11,12,13,14,15],\n",
    "             [21,22,23,24,25],\n",
    "             [31,32,33,34,35],\n",
    "             [41,42,43,44,45],\n",
    "             [51,52,53,54,55]])\n",
    "print(A)\n",
    "\n",
    "print(A[:3,2:])"
   ]
  },
  {
   "cell_type": "code",
   "execution_count": 40,
   "metadata": {},
   "outputs": [
    {
     "name": "stdout",
     "output_type": "stream",
     "text": [
      "[[ 0  1  2  3  4  5  6]\n",
      " [ 7  8  9 10 11 12 13]\n",
      " [14 15 16 17 18 19 20]\n",
      " [21 22 23 24 25 26 27]]\n"
     ]
    }
   ],
   "source": [
    "X = np.arange(28).reshape(4,7)\n",
    "print(X)"
   ]
  },
  {
   "cell_type": "code",
   "execution_count": 41,
   "metadata": {},
   "outputs": [
    {
     "name": "stdout",
     "output_type": "stream",
     "text": [
      "[[ 0  3  6]\n",
      " [14 17 20]]\n"
     ]
    }
   ],
   "source": [
    "#print(A[start:stop:step])\n",
    "print(X[::2,::3])"
   ]
  },
  {
   "cell_type": "code",
   "execution_count": 45,
   "metadata": {},
   "outputs": [
    {
     "name": "stdout",
     "output_type": "stream",
     "text": [
      "[[ 0  1  2  3  4  5  6  7  8  9 10 11 12 13 14 15 16 17 18 19]\n",
      " [20 21 22 23 24 25 26 27 28 29 30 31 32 33 34 35 36 37 38 39]\n",
      " [40 41 42 43 44 45 46 47 48 49 50 51 52 53 54 55 56 57 58 59]\n",
      " [60 61 62 63 64 65 66 67 68 69 70 71 72 73 74 75 76 77 78 79]\n",
      " [80 81 82 83 84 85 86 87 88 89 90 91 92 93 94 95 96 97 98 99]]\n",
      "[[  0   1   2   3   4   5   6   7   8   9  10  11  12  13  14  15  16  17\n",
      "   18  19]\n",
      " [ 20  21  22  23  24  25  26  27  28  29  30  31  32  33  34  35  36  37\n",
      "   38  39]\n",
      " [ 40  41  42  43  44  45  46  47  48  49  50  51  52  53  54  55  56  57\n",
      "   58  59]\n",
      " [ 60  61  62  63  64  65  66  67  68  69  70  71  72  73  74  75  76  77\n",
      "   78  79]\n",
      " [ 80  81  82  83  84  85  86  87  88  89  90  91  92  93  94  95  96  97\n",
      "   98  99]\n",
      " [100 101 102 103 104 105 106 107 108 109 110 111 112 113 114 115 116 117\n",
      "  118 119]\n",
      " [120 121 122 123 124 125 126 127 128 129 130 131 132 133 134 135 136 137\n",
      "  138 139]\n",
      " [140 141 142 143 144 145 146 147 148 149 150 151 152 153 154 155 156 157\n",
      "  158 159]\n",
      " [160 161 162 163 164 165 166 167 168 169 170 171 172 173 174 175 176 177\n",
      "  178 179]\n",
      " [180 181 182 183 184 185 186 187 188 189 190 191 192 193 194 195 196 197\n",
      "  198 199]]\n",
      "False\n"
     ]
    }
   ],
   "source": [
    "A = np.arange(100).reshape(5,20)\n",
    "B = np.arange(200).reshape(10,20)\n",
    "\n",
    "print(A)\n",
    "print(B)\n",
    "\n",
    "# checking if they share memory or not\n",
    "print(np.may_share_memory(A,B))"
   ]
  },
  {
   "cell_type": "code",
   "execution_count": 46,
   "metadata": {},
   "outputs": [
    {
     "data": {
      "text/plain": [
       "array([[1., 1., 1.],\n",
       "       [1., 1., 1.]])"
      ]
     },
     "execution_count": 46,
     "metadata": {},
     "output_type": "execute_result"
    }
   ],
   "source": [
    "# Arrays of zero's and one's:\n",
    "np.ones((2,3))"
   ]
  },
  {
   "cell_type": "code",
   "execution_count": 47,
   "metadata": {},
   "outputs": [
    {
     "data": {
      "text/plain": [
       "array([[1, 1, 1],\n",
       "       [1, 1, 1]])"
      ]
     },
     "execution_count": 47,
     "metadata": {},
     "output_type": "execute_result"
    }
   ],
   "source": [
    "np.ones((2,3),dtype=int)"
   ]
  },
  {
   "cell_type": "code",
   "execution_count": 48,
   "metadata": {},
   "outputs": [
    {
     "data": {
      "text/plain": [
       "array([[0, 0, 0],\n",
       "       [0, 0, 0]])"
      ]
     },
     "execution_count": 48,
     "metadata": {},
     "output_type": "execute_result"
    }
   ],
   "source": [
    "np.zeros((2,3),dtype=int)"
   ]
  },
  {
   "cell_type": "code",
   "execution_count": 52,
   "metadata": {},
   "outputs": [
    {
     "name": "stdout",
     "output_type": "stream",
     "text": [
      "[[1 1 1 1 1 1 1 1 1 1 1 1 1 1 1 1 1 1 1 1]\n",
      " [1 1 1 1 1 1 1 1 1 1 1 1 1 1 1 1 1 1 1 1]\n",
      " [1 1 1 1 1 1 1 1 1 1 1 1 1 1 1 1 1 1 1 1]\n",
      " [1 1 1 1 1 1 1 1 1 1 1 1 1 1 1 1 1 1 1 1]\n",
      " [1 1 1 1 1 1 1 1 1 1 1 1 1 1 1 1 1 1 1 1]]\n",
      "[[0 0 0 0 0 0 0 0 0 0 0 0 0 0 0 0 0 0 0 0]\n",
      " [0 0 0 0 0 0 0 0 0 0 0 0 0 0 0 0 0 0 0 0]\n",
      " [0 0 0 0 0 0 0 0 0 0 0 0 0 0 0 0 0 0 0 0]\n",
      " [0 0 0 0 0 0 0 0 0 0 0 0 0 0 0 0 0 0 0 0]\n",
      " [0 0 0 0 0 0 0 0 0 0 0 0 0 0 0 0 0 0 0 0]\n",
      " [0 0 0 0 0 0 0 0 0 0 0 0 0 0 0 0 0 0 0 0]\n",
      " [0 0 0 0 0 0 0 0 0 0 0 0 0 0 0 0 0 0 0 0]\n",
      " [0 0 0 0 0 0 0 0 0 0 0 0 0 0 0 0 0 0 0 0]\n",
      " [0 0 0 0 0 0 0 0 0 0 0 0 0 0 0 0 0 0 0 0]\n",
      " [0 0 0 0 0 0 0 0 0 0 0 0 0 0 0 0 0 0 0 0]]\n"
     ]
    }
   ],
   "source": [
    "print(np.ones_like(A))\n",
    "print(np.zeros_like(B))"
   ]
  },
  {
   "cell_type": "code",
   "execution_count": 54,
   "metadata": {},
   "outputs": [
    {
     "name": "stdout",
     "output_type": "stream",
     "text": [
      "[[ 0  1  2  3  4  5  6]\n",
      " [ 7  8  9 10 11 12 13]\n",
      " [14 15 16 17 18 19 20]\n",
      " [21 22 23 24 25 26 27]]\n"
     ]
    }
   ],
   "source": [
    "# copying arrays\n",
    "Arr = np.copy(X)\n",
    "print(Arr)"
   ]
  },
  {
   "cell_type": "code",
   "execution_count": 55,
   "metadata": {},
   "outputs": [
    {
     "data": {
      "text/plain": [
       "array([[1, 0, 0, 0],\n",
       "       [0, 1, 0, 0],\n",
       "       [0, 0, 1, 0],\n",
       "       [0, 0, 0, 1]])"
      ]
     },
     "execution_count": 55,
     "metadata": {},
     "output_type": "execute_result"
    }
   ],
   "source": [
    "np.identity(4,dtype=int)"
   ]
  },
  {
   "cell_type": "code",
   "execution_count": 56,
   "metadata": {},
   "outputs": [
    {
     "name": "stdout",
     "output_type": "stream",
     "text": [
      "[0 1 2 3 4 5 6 7 8 9]\n"
     ]
    }
   ],
   "source": [
    "# EXERCISES:\n",
    "v = np.arange(10)\n",
    "print(v)"
   ]
  },
  {
   "cell_type": "code",
   "execution_count": 57,
   "metadata": {},
   "outputs": [
    {
     "name": "stdout",
     "output_type": "stream",
     "text": [
      "[1 3 5 7 9]\n"
     ]
    }
   ],
   "source": [
    "# creates odd indices:\n",
    "print(v[1::2])"
   ]
  },
  {
   "cell_type": "code",
   "execution_count": 58,
   "metadata": {},
   "outputs": [
    {
     "name": "stdout",
     "output_type": "stream",
     "text": [
      "[9 8 7 6 5 4 3 2 1 0]\n"
     ]
    }
   ],
   "source": [
    "# create backward oddering of v:\n",
    "print(v[::-1])"
   ]
  },
  {
   "cell_type": "code",
   "execution_count": 59,
   "metadata": {},
   "outputs": [
    {
     "name": "stdout",
     "output_type": "stream",
     "text": [
      "200\n"
     ]
    }
   ],
   "source": [
    "# output of the following:\n",
    "a = np.array([1, 2, 3, 4, 5])\n",
    "b = a[1:4]\n",
    "b[0] = 200\n",
    "print(a[1])"
   ]
  },
  {
   "cell_type": "code",
   "execution_count": 60,
   "metadata": {},
   "outputs": [
    {
     "name": "stdout",
     "output_type": "stream",
     "text": [
      "[[  0   1   2   3   4   5   6   7   8   9]\n",
      " [ 10  11  12  13  14  15  16  17  18  19]\n",
      " [ 20  21  22  23  24  25  26  27  28  29]\n",
      " [ 30  31  32  33  34  35  36  37  38  39]\n",
      " [ 40  41  42  43  44  45  46  47  48  49]\n",
      " [ 50  51  52  53  54  55  56  57  58  59]\n",
      " [ 60  61  62  63  64  65  66  67  68  69]\n",
      " [ 70  71  72  73  74  75  76  77  78  79]\n",
      " [ 80  81  82  83  84  85  86  87  88  89]\n",
      " [ 90  91  92  93  94  95  96  97  98  99]\n",
      " [100 101 102 103 104 105 106 107 108 109]\n",
      " [110 111 112 113 114 115 116 117 118 119]\n",
      " [120 121 122 123 124 125 126 127 128 129]\n",
      " [130 131 132 133 134 135 136 137 138 139]\n",
      " [140 141 142 143 144 145 146 147 148 149]\n",
      " [150 151 152 153 154 155 156 157 158 159]\n",
      " [160 161 162 163 164 165 166 167 168 169]\n",
      " [170 171 172 173 174 175 176 177 178 179]\n",
      " [180 181 182 183 184 185 186 187 188 189]\n",
      " [190 191 192 193 194 195 196 197 198 199]]\n"
     ]
    }
   ],
   "source": [
    "#creating a two dimensional array:\n",
    "m = np.arange(200).reshape(20,10)\n",
    "print(m)"
   ]
  },
  {
   "cell_type": "code",
   "execution_count": 62,
   "metadata": {},
   "outputs": [
    {
     "name": "stdout",
     "output_type": "stream",
     "text": [
      "[[  9   8   7   6   5   4   3   2   1   0]\n",
      " [ 19  18  17  16  15  14  13  12  11  10]\n",
      " [ 29  28  27  26  25  24  23  22  21  20]\n",
      " [ 39  38  37  36  35  34  33  32  31  30]\n",
      " [ 49  48  47  46  45  44  43  42  41  40]\n",
      " [ 59  58  57  56  55  54  53  52  51  50]\n",
      " [ 69  68  67  66  65  64  63  62  61  60]\n",
      " [ 79  78  77  76  75  74  73  72  71  70]\n",
      " [ 89  88  87  86  85  84  83  82  81  80]\n",
      " [ 99  98  97  96  95  94  93  92  91  90]\n",
      " [109 108 107 106 105 104 103 102 101 100]\n",
      " [119 118 117 116 115 114 113 112 111 110]\n",
      " [129 128 127 126 125 124 123 122 121 120]\n",
      " [139 138 137 136 135 134 133 132 131 130]\n",
      " [149 148 147 146 145 144 143 142 141 140]\n",
      " [159 158 157 156 155 154 153 152 151 150]\n",
      " [169 168 167 166 165 164 163 162 161 160]\n",
      " [179 178 177 176 175 174 173 172 171 170]\n",
      " [189 188 187 186 185 184 183 182 181 180]\n",
      " [199 198 197 196 195 194 193 192 191 190]]\n"
     ]
    }
   ],
   "source": [
    "# element of each row in reverse order\n",
    "print(m[:,::-1])"
   ]
  },
  {
   "cell_type": "code",
   "execution_count": 63,
   "metadata": {},
   "outputs": [
    {
     "name": "stdout",
     "output_type": "stream",
     "text": [
      "[[190 191 192 193 194 195 196 197 198 199]\n",
      " [180 181 182 183 184 185 186 187 188 189]\n",
      " [170 171 172 173 174 175 176 177 178 179]\n",
      " [160 161 162 163 164 165 166 167 168 169]\n",
      " [150 151 152 153 154 155 156 157 158 159]\n",
      " [140 141 142 143 144 145 146 147 148 149]\n",
      " [130 131 132 133 134 135 136 137 138 139]\n",
      " [120 121 122 123 124 125 126 127 128 129]\n",
      " [110 111 112 113 114 115 116 117 118 119]\n",
      " [100 101 102 103 104 105 106 107 108 109]\n",
      " [ 90  91  92  93  94  95  96  97  98  99]\n",
      " [ 80  81  82  83  84  85  86  87  88  89]\n",
      " [ 70  71  72  73  74  75  76  77  78  79]\n",
      " [ 60  61  62  63  64  65  66  67  68  69]\n",
      " [ 50  51  52  53  54  55  56  57  58  59]\n",
      " [ 40  41  42  43  44  45  46  47  48  49]\n",
      " [ 30  31  32  33  34  35  36  37  38  39]\n",
      " [ 20  21  22  23  24  25  26  27  28  29]\n",
      " [ 10  11  12  13  14  15  16  17  18  19]\n",
      " [  0   1   2   3   4   5   6   7   8   9]]\n"
     ]
    }
   ],
   "source": [
    "# rows are in reverse order:\n",
    "print(m[::-1,:])"
   ]
  },
  {
   "cell_type": "code",
   "execution_count": 64,
   "metadata": {},
   "outputs": [
    {
     "name": "stdout",
     "output_type": "stream",
     "text": [
      "[[199 198 197 196 195 194 193 192 191 190]\n",
      " [189 188 187 186 185 184 183 182 181 180]\n",
      " [179 178 177 176 175 174 173 172 171 170]\n",
      " [169 168 167 166 165 164 163 162 161 160]\n",
      " [159 158 157 156 155 154 153 152 151 150]\n",
      " [149 148 147 146 145 144 143 142 141 140]\n",
      " [139 138 137 136 135 134 133 132 131 130]\n",
      " [129 128 127 126 125 124 123 122 121 120]\n",
      " [119 118 117 116 115 114 113 112 111 110]\n",
      " [109 108 107 106 105 104 103 102 101 100]\n",
      " [ 99  98  97  96  95  94  93  92  91  90]\n",
      " [ 89  88  87  86  85  84  83  82  81  80]\n",
      " [ 79  78  77  76  75  74  73  72  71  70]\n",
      " [ 69  68  67  66  65  64  63  62  61  60]\n",
      " [ 59  58  57  56  55  54  53  52  51  50]\n",
      " [ 49  48  47  46  45  44  43  42  41  40]\n",
      " [ 39  38  37  36  35  34  33  32  31  30]\n",
      " [ 29  28  27  26  25  24  23  22  21  20]\n",
      " [ 19  18  17  16  15  14  13  12  11  10]\n",
      " [  9   8   7   6   5   4   3   2   1   0]]\n"
     ]
    }
   ],
   "source": [
    "# rows and columns are in reverse order:\n",
    "print(m[::-1,::-1])"
   ]
  },
  {
   "cell_type": "code",
   "execution_count": 66,
   "metadata": {},
   "outputs": [
    {
     "name": "stdout",
     "output_type": "stream",
     "text": [
      "[[ 11  12  13  14  15  16  17  18]\n",
      " [ 21  22  23  24  25  26  27  28]\n",
      " [ 31  32  33  34  35  36  37  38]\n",
      " [ 41  42  43  44  45  46  47  48]\n",
      " [ 51  52  53  54  55  56  57  58]\n",
      " [ 61  62  63  64  65  66  67  68]\n",
      " [ 71  72  73  74  75  76  77  78]\n",
      " [ 81  82  83  84  85  86  87  88]\n",
      " [ 91  92  93  94  95  96  97  98]\n",
      " [101 102 103 104 105 106 107 108]\n",
      " [111 112 113 114 115 116 117 118]\n",
      " [121 122 123 124 125 126 127 128]\n",
      " [131 132 133 134 135 136 137 138]\n",
      " [141 142 143 144 145 146 147 148]\n",
      " [151 152 153 154 155 156 157 158]\n",
      " [161 162 163 164 165 166 167 168]\n",
      " [171 172 173 174 175 176 177 178]\n",
      " [181 182 183 184 185 186 187 188]]\n"
     ]
    }
   ],
   "source": [
    "# cut-off the first and the last row and first and the last column:\n",
    "print(m[1:-1,1:-1])"
   ]
  },
  {
   "cell_type": "code",
   "execution_count": null,
   "metadata": {},
   "outputs": [],
   "source": []
  }
 ],
 "metadata": {
  "kernelspec": {
   "display_name": "Python 3",
   "language": "python",
   "name": "python3"
  },
  "language_info": {
   "codemirror_mode": {
    "name": "ipython",
    "version": 3
   },
   "file_extension": ".py",
   "mimetype": "text/x-python",
   "name": "python",
   "nbconvert_exporter": "python",
   "pygments_lexer": "ipython3",
   "version": "3.6.5"
  }
 },
 "nbformat": 4,
 "nbformat_minor": 2
}
